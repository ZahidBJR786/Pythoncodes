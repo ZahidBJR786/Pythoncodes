{
 "cells": [
  {
   "cell_type": "code",
   "execution_count": null,
   "metadata": {},
   "outputs": [],
   "source": [
    "a=int(input(\"please enter your value: \"))\n",
    "b=int(input(\"please enter your value: \"))\n",
    "\n",
    "while a<=b:\n",
    "    print(a)\n",
    "    a+=5\n"
   ]
  },
  {
   "cell_type": "code",
   "execution_count": null,
   "metadata": {},
   "outputs": [],
   "source": [
    "a=0\n",
    "while a<5:\n",
    "    b=1\n",
    "    while b<10:\n",
    "        print(a,b)\n",
    "        b+=1\n",
    "    a+=1 \n",
    "         \n"
   ]
  },
  {
   "cell_type": "code",
   "execution_count": null,
   "metadata": {},
   "outputs": [],
   "source": [
    "n=5\n",
    "for i in range(n):\n",
    "    for j in range(i,n):\n",
    "        print(\"*\",end=\" \")\n",
    "    print()"
   ]
  },
  {
   "cell_type": "code",
   "execution_count": null,
   "metadata": {},
   "outputs": [],
   "source": [
    "n=5\n",
    "for i in range(n):\n",
    "    print(\" \",end=\" \")\n",
    "    for j in range(i+1):\n",
    "        print(\"*\",end=\" \")\n",
    "    print()"
   ]
  },
  {
   "cell_type": "code",
   "execution_count": null,
   "metadata": {},
   "outputs": [],
   "source": [
    "registeredstudents=int(input(\"please enter the total number of registered students: \"))\n",
    "males=int(input(\"please enter the number of males: \"))\n",
    "females=int(input(\"please enter the number of females: \"))\n",
    "a=(males*100/registeredstudents)\n",
    "b=(females*100/registeredstudents)\n",
    "print(\"the percentage of the male is : \",a,\"%\")\n",
    "print(\"the percentage of the female is : \",b,\"%\")\n"
   ]
  },
  {
   "cell_type": "code",
   "execution_count": null,
   "metadata": {},
   "outputs": [],
   "source": [
    "a=(input(\"enter first name: \"))\n",
    "b=(input(\"enter last name: \"))\n",
    "print(a[0]+b[0])\n"
   ]
  },
  {
   "cell_type": "code",
   "execution_count": null,
   "metadata": {},
   "outputs": [],
   "source": [
    "from turtle import *\n",
    "color(\"red\")\n",
    "begin_fill()\n",
    "pensize(3)\n",
    "left(50)\n",
    "forward(133)\n",
    "circle(50,200)\n",
    "right(140)\n",
    "circle(50,200)\n",
    "forward(133)\n",
    "end_fill"
   ]
  },
  {
   "cell_type": "code",
   "execution_count": null,
   "metadata": {},
   "outputs": [],
   "source": [
    "print('''to check balance type check balance\n",
    "      to deposit money type deposit\n",
    "    to withdraw money type withdraw''')\n",
    "balance=100\n",
    "while True:\n",
    "    choice=input(\"please type your choice\")\n",
    "    if choice==\"check balance\":\n",
    "        print(\"your balance is: \",balance)\n",
    "    elif choice == \"deposit\":\n",
    "        deposit=int(input(\"please enter the amount you want to deposit: \"))\n",
    "        if balance > 0 and deposit>0:\n",
    "            new_balance = balance  +  deposit\n",
    "            print(\"your new balance is: \",new_balance)\n",
    "            balance+=deposit\n",
    "        else:\n",
    "            print(\"error\")\n",
    "    elif choice == \"withdraw\":\n",
    "        amount=int(input(\"please enter the withdrawan amount: \"))\n",
    "        if amount <= balance and amount > 0:\n",
    "            new_balance=balance-amount\n",
    "            print(\"your new balance is: \",new_balance)\n",
    "            balance-=amount\n",
    "        else:\n",
    "            print(\"insufficient balance or error\")\n",
    "    else:\n",
    "        print(\"error\")\n",
    "    \n"
   ]
  },
  {
   "cell_type": "code",
   "execution_count": null,
   "metadata": {},
   "outputs": [],
   "source": [
    "print('''\"1\" for ICE\n",
    "      \"2\" for WATER\n",
    "      \"3\" for FIRE''')\n",
    "player_1=10\n",
    "player_2=10\n",
    "while player_1>0 and player_2>0:\n",
    "    weapon_1=input(\"Please enter your weapon mode: \")\n",
    "    from random import randint\n",
    "    weapon_2=randint(1,3)\n",
    "    print(weapon_1,weapon_2)\n",
    "    if weapon_1==\"1\" and weapon_2==1:\n",
    "        print(\"TIE\")\n",
    "    elif weapon_1==\"1\" and weapon_2==2:\n",
    "        print(\"player_1 WINS\")\n",
    "        player_2 -= 1\n",
    "    elif weapon_1==\"1\" and weapon_2==3:\n",
    "        print(\"player_2 WINS\")\n",
    "        player_1 -= 1\n",
    "    elif weapon_1==\"2\" and weapon_2==1:\n",
    "        print(\"player_2 WINS\")\n",
    "        player_1 -= 1\n",
    "    elif weapon_1==\"2\" and weapon_2==2:\n",
    "        print(\"TIE\")\n",
    "    elif weapon_1==\"2\" and weapon_2==3:\n",
    "        print(\"player_1 WINS\")\n",
    "        player_2 -= 1\n",
    "    elif weapon_1==\"3\" and weapon_2==1:\n",
    "        print(\"player_1 WINS\")\n",
    "        player_2 -= 1\n",
    "    elif weapon_1==\"3\" and weapon_2==2:\n",
    "        print(\"player_2 WINS\")\n",
    "        player_1 -= 1\n",
    "    elif weapon_1==\"3\" and weapon_2==3:\n",
    "        print(\"TIE\")\n",
    "    else:\n",
    "        print()\n",
    "if player_2 == 0:\n",
    "    print(\"CONGRATULATIONS player_1 is  the WINNER! \")\n",
    "elif player_1 == 0:\n",
    "    print(\"CONGRATULATIONS player_2  the WINNER!  \")\n"
   ]
  },
  {
   "cell_type": "code",
   "execution_count": null,
   "metadata": {},
   "outputs": [],
   "source": [
    "print('''\"1\" for ICE\n",
    "      \"2\" for WATER\n",
    "      \"3\" for FIRE''')\n",
    "player_1=10\n",
    "player_2=10\n",
    "while player_1>0 and player_2>0:\n",
    "    weapon_1=input(\"Please enter your weapon mode: \")\n",
    "    from random import randint\n",
    "    weapon_2=randint(1,3)\n",
    "    print(weapon_1,weapon_2)\n",
    "    if weapon_1==\"1\" and weapon_2==1:\n",
    "        print(\"TIE\")\n",
    "    elif weapon_1==\"1\" and weapon_2==2:\n",
    "        player_2 -= 1\n",
    "    elif weapon_1==\"1\" and weapon_2==3:\n",
    "        player_1 -= 1\n",
    "    elif weapon_1==\"2\" and weapon_2==1:\n",
    "        player_1 -= 1\n",
    "    elif weapon_1==\"2\" and weapon_2==2:\n",
    "        print(\"TIE\")\n",
    "    elif weapon_1==\"2\" and weapon_2==3:\n",
    "        player_2 -= 1\n",
    "    elif weapon_1==\"3\" and weapon_2==1:\n",
    "        player_2 -= 1\n",
    "    elif weapon_1==\"3\" and weapon_2==2:\n",
    "        player_1 -= 1\n",
    "    elif weapon_1==\"3\" and weapon_2==3:\n",
    "        print(\"TIE\")\n",
    "    else:\n",
    "        print()\n",
    "if player_2 == 0:\n",
    "    print(\"CONGRATULATIONS player_1 is  the WINNER! \")\n",
    "elif player_1 == 0:\n",
    "    print(\"CONGRATULATIONS player_2  the WINNER!  \")\n"
   ]
  }
 ],
 "metadata": {
  "kernelspec": {
   "display_name": "Python 3",
   "language": "python",
   "name": "python3"
  },
  "language_info": {
   "codemirror_mode": {
    "name": "ipython",
    "version": 3
   },
   "file_extension": ".py",
   "mimetype": "text/x-python",
   "name": "python",
   "nbconvert_exporter": "python",
   "pygments_lexer": "ipython3",
   "version": "3.13.0"
  }
 },
 "nbformat": 4,
 "nbformat_minor": 2
}
