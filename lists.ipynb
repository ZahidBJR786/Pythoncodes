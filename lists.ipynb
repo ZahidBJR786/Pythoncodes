{
 "cells": [
  {
   "cell_type": "code",
   "execution_count": null,
   "metadata": {},
   "outputs": [],
   "source": [
    "thislist = [\"apple\",\"banana\",\"orange\"]\n",
    "print(thislist)\n"
   ]
  },
  {
   "cell_type": "code",
   "execution_count": null,
   "metadata": {},
   "outputs": [],
   "source": [
    "thislist = [\"apple\",\"banana\",\"orange\",\"cherry\",\"apple\"]\n",
    "print(thislist)\n"
   ]
  },
  {
   "cell_type": "code",
   "execution_count": null,
   "metadata": {},
   "outputs": [],
   "source": [
    "thislist = [\"apple\",\"banana\",\"orange\"]\n",
    "print(len(thislist))\n"
   ]
  },
  {
   "cell_type": "code",
   "execution_count": null,
   "metadata": {},
   "outputs": [],
   "source": [
    "list1 = [\"apple\",\"banana\",\"orange\"]\n",
    "list2 = [1,2,3,4,5,6]\n",
    "list3 = [True,False,True]\n",
    "print(list1)\n",
    "print(list2)\n",
    "print(list3)\n"
   ]
  },
  {
   "cell_type": "code",
   "execution_count": null,
   "metadata": {},
   "outputs": [],
   "source": [
    "list1=[\"orange\",1,2,3,True,\"apple\"]\n",
    "print(list1)"
   ]
  },
  {
   "cell_type": "code",
   "execution_count": null,
   "metadata": {},
   "outputs": [],
   "source": [
    "list1 = [\"apple\",\"banana\",\"orange\"]\n",
    "print(list1[0])"
   ]
  },
  {
   "cell_type": "code",
   "execution_count": null,
   "metadata": {},
   "outputs": [],
   "source": [
    "list1 = [\"apple\",\"banana\",\"orange\"]\n",
    "print(list1[-1])"
   ]
  },
  {
   "cell_type": "code",
   "execution_count": null,
   "metadata": {},
   "outputs": [],
   "source": [
    "thislist = [\"apple\",\"banana\",\"orange\",\"cherry\",\"apple\"]\n",
    "print(thislist[1:4])"
   ]
  },
  {
   "cell_type": "code",
   "execution_count": null,
   "metadata": {},
   "outputs": [],
   "source": [
    "thislist = [\"apple\",\"banana\",\"orange\",\"cherry\",\"apple\"]\n",
    "print(thislist[:5])"
   ]
  },
  {
   "cell_type": "code",
   "execution_count": null,
   "metadata": {},
   "outputs": [],
   "source": [
    "thislist = [\"apple\",\"banana\",\"orange\",\"cherry\",\"apple\"]\n",
    "print(thislist[1:])"
   ]
  },
  {
   "cell_type": "code",
   "execution_count": null,
   "metadata": {},
   "outputs": [],
   "source": [
    "list1=[1,2,3,4,5,6,7,8,9]\n",
    "list2=[9,8,7,6,5,4,3,2,1]\n",
    "for x in range(len(list1)):\n",
    "    for y in range(len(list2)):\n",
    "        a=0\n",
    "        new_percentage=0\n",
    "        if list1[x]==list2[x]:\n",
    "            a+=1\n",
    "            percentage=a/(len(list1))*100\n",
    "            percentage+=percentage\n",
    "            print(percentage)\n",
    "        else:\n",
    "            print()\n",
    "        \n"
   ]
  },
  {
   "cell_type": "code",
   "execution_count": 1,
   "metadata": {},
   "outputs": [
    {
     "name": "stdout",
     "output_type": "stream",
     "text": [
      "Percentage of matching values:  100.0\n"
     ]
    }
   ],
   "source": [
    "list1 = [1, 2, 3, 4, 5, 6, 7, 8, 9]\n",
    "list2 = [9, 8, 7, 6, 5, 4, 3, 2, 1]\n",
    "a = 0\n",
    "for x in range(len(list1)):\n",
    "        for y in range(len(list2)):\n",
    "            if list1[x] == list2[x]:\n",
    "                a += 1\n",
    "\n",
    "percentage = (a / len(list1)) * 100\n",
    "\n",
    "print(\"Percentage of matching values: \",percentage)\n"
   ]
  },
  {
   "cell_type": "code",
   "execution_count": 2,
   "metadata": {},
   "outputs": [
    {
     "name": "stdout",
     "output_type": "stream",
     "text": [
      "Percentage of matching values:  11.11111111111111\n"
     ]
    }
   ],
   "source": [
    "list1 = [1, 2, 3, 4, 5, 6, 7, 8, 9]\n",
    "list2 = [9, 8, 7, 6, 5, 4, 3, 2, 1]\n",
    "a = 0\n",
    "for x in range(len(list1)):\n",
    "        if list1[x] == list2[x]:\n",
    "            a += 1\n",
    "\n",
    "percentage = (a / len(list1)) * 100\n",
    "\n",
    "print(\"Percentage of matching values: \",percentage)\n"
   ]
  },
  {
   "cell_type": "code",
   "execution_count": 68,
   "metadata": {},
   "outputs": [
    {
     "name": "stdout",
     "output_type": "stream",
     "text": [
      "c\n"
     ]
    }
   ],
   "source": [
    "list=[\"a\",\"b\",\"c\",\"d\",\"e\"]\n",
    "list1 = [1, 2, 3, 4, 5]\n",
    "list = list1\n",
    "a=(input(\"enter: \"))\n",
    "print(a)"
   ]
  },
  {
   "cell_type": "code",
   "execution_count": 70,
   "metadata": {},
   "outputs": [
    {
     "ename": "NameError",
     "evalue": "name 'b' is not defined",
     "output_type": "error",
     "traceback": [
      "\u001b[0;31m---------------------------------------------------------------------------\u001b[0m",
      "\u001b[0;31mNameError\u001b[0m                                 Traceback (most recent call last)",
      "Cell \u001b[0;32mIn[70], line 1\u001b[0m\n\u001b[0;32m----> 1\u001b[0m list1 \u001b[38;5;241m=\u001b[39m {a, \u001b[43mb\u001b[49m, c};\n\u001b[1;32m      2\u001b[0m list2 \u001b[38;5;241m=\u001b[39m {\u001b[38;5;241m10\u001b[39m, \u001b[38;5;241m20\u001b[39m, \u001b[38;5;241m30\u001b[39m};\n\u001b[1;32m      4\u001b[0m Evaluate[list1] \u001b[38;5;241m=\u001b[39m list2;\n",
      "\u001b[0;31mNameError\u001b[0m: name 'b' is not defined"
     ]
    }
   ],
   "source": [
    "list1 = {a, b, c};\n",
    "list2 = {10, 20, 30};\n",
    "\n",
    "Evaluate[list1] = list2;"
   ]
  },
  {
   "cell_type": "code",
   "execution_count": 17,
   "metadata": {},
   "outputs": [
    {
     "name": "stdout",
     "output_type": "stream",
     "text": [
      "[1, 9]\n",
      "[2, 8]\n",
      "[3, 7]\n",
      "[4, 6]\n",
      "[6, 4]\n",
      "[7, 3]\n",
      "[8, 2]\n",
      "[9, 1]\n"
     ]
    }
   ],
   "source": [
    "list1 = [1, 2, 3, 4, 5, 6, 7, 8, 9]\n",
    "list2 = [9, 8, 7, 6, 5, 4, 3, 2, 1]\n",
    "for x in range(len(list1)):\n",
    "        if list1[x] != list2[x]:\n",
    "              print([list1[x],list2[x]])\n",
    "print()"
   ]
  },
  {
   "cell_type": "code",
   "execution_count": 35,
   "metadata": {},
   "outputs": [
    {
     "name": "stdout",
     "output_type": "stream",
     "text": [
      "[(3, 3), (5, 5), (7, 7)]\n"
     ]
    }
   ],
   "source": [
    "list1 = [2, 3, 4, 5, 6, 7, 8, 9]\n",
    "list2 = [8, 3, 6, 5, 4, 7, 2, 1]\n",
    "a=[]\n",
    "for x in range(len(list1)):\n",
    "      if list1[x] != list2[x]:\n",
    "            a.append((list1[x],list2[x]))\n",
    "print(a)"
   ]
  },
  {
   "cell_type": "code",
   "execution_count": 33,
   "metadata": {},
   "outputs": [
    {
     "name": "stdout",
     "output_type": "stream",
     "text": [
      "(9, 1)\n"
     ]
    }
   ],
   "source": [
    "list1 = [2, 3, 4, 5, 6, 7, 8, 9]\n",
    "list2 = [8, 7, 6, 5, 4, 3, 2, 1]\n",
    "a=[]\n",
    "for x in range(len(list1)):\n",
    "      if list1[x] != list2[x]:\n",
    "            a((list1[x],list2[x]))\n",
    "print(a)"
   ]
  },
  {
   "cell_type": "code",
   "execution_count": null,
   "metadata": {},
   "outputs": [],
   "source": [
    "a=[1,3,4,5,6,7]\n",
    "b=int(input(\"pleease enter the value you want to find: \"))\n",
    "c = a.index(b)\n",
    "if b in a:\n",
    "    print(b,\"is found in list and the value is present on index \",c)\n",
    "else:\n",
    "    print(\"value not found\")\n"
   ]
  },
  {
   "cell_type": "code",
   "execution_count": null,
   "metadata": {},
   "outputs": [],
   "source": [
    "# BY ROLL NO VALUES\n",
    "\n",
    "\n",
    "a=[1,2,3,4,5,6,7]\n",
    "b=[10,30,20,40,20,10,20]\n",
    "d=(int(input(\"enter value:\")))\n",
    "e=a.index(d)\n",
    "f=b[e]\n",
    "print(\"Roll No \",d,\"got\",f,\"marks\")"
   ]
  },
  {
   "cell_type": "code",
   "execution_count": 2,
   "metadata": {},
   "outputs": [
    {
     "name": "stdout",
     "output_type": "stream",
     "text": [
      "ali got 10 marks\n"
     ]
    }
   ],
   "source": [
    "# BY NAME VALUES\n",
    "\n",
    "a=[\"ali\",\"hamza\",\"khan\",\"khattak\",\"boss\",\"ishtiaq\",\"rayyan\"]\n",
    "b=[10,30,20,40,20,10,20]\n",
    "d=(input(\"enter value:\"))\n",
    "if d in a:\n",
    "    e=a.index(d)\n",
    "    f=b[e]\n",
    "    print(d,\"got\",f,\"marks\")\n",
    "else:\n",
    "    print(d,\"Not Found\")"
   ]
  }
 ],
 "metadata": {
  "kernelspec": {
   "display_name": "Python 3",
   "language": "python",
   "name": "python3"
  },
  "language_info": {
   "codemirror_mode": {
    "name": "ipython",
    "version": 3
   },
   "file_extension": ".py",
   "mimetype": "text/x-python",
   "name": "python",
   "nbconvert_exporter": "python",
   "pygments_lexer": "ipython3",
   "version": "3.13.0"
  }
 },
 "nbformat": 4,
 "nbformat_minor": 2
}
